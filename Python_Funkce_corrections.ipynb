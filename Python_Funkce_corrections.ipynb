{
  "cells": [
    {
      "cell_type": "markdown",
      "metadata": {
        "id": "SBq8wro-QAlY"
      },
      "source": [
        "### Find the dramas"
      ]
    },
    {
      "cell_type": "markdown",
      "metadata": {
        "id": "UAEB4oE4QAla"
      },
      "source": [
        "Create a function named dramas that takes a list of movies as its argument. This function should return a new list containing the titles of movies whose genres include 'Drama'.\n",
        "\n",
        "A function called dramas is defined. It takes a list of movies as an argument and returns a new list with titles of movies that have 'Drama' in their genres."
      ]
    },
    {
      "cell_type": "code",
      "execution_count": null,
      "metadata": {
        "id": "RYcU0NE3QAlb"
      },
      "outputs": [],
      "source": [
        "from data import movies"
      ]
    },
    {
      "cell_type": "code",
      "execution_count": null,
      "metadata": {
        "id": "5Tz1_ZneQAlc"
      },
      "outputs": [],
      "source": [
        "def dramas(movies_list, zanr=\"Drama\"):\n",
        "    # list pro uložení filmů splňujících podmínku\n",
        "    filmy = []\n",
        "    # pro každý film\n",
        "    for film_dict in movies_list:\n",
        "        # pokud hledaný žánr je uložený u daného filmu pod klíčem genres\n",
        "        if zanr in film_dict[\"genres\"]:\n",
        "            # zapsat do listů s výsledky\n",
        "            filmy.append(film_dict[\"title\"])\n",
        "    # vrátit výsledný list\n",
        "    return filmy"
      ]
    },
    {
      "cell_type": "code",
      "execution_count": null,
      "metadata": {
        "id": "pttXdgOWQAld"
      },
      "outputs": [],
      "source": [
        "def drama_comprehension(movies_list, zanr=\"Drama\"):\n",
        "    # to samé -> for přepsáno na list comprehension\n",
        "    return [film_dict[\"title\"] for film_dict in movies_list if zanr in film_dict[\"genres\"]]"
      ]
    },
    {
      "cell_type": "code",
      "execution_count": null,
      "metadata": {
        "id": "9lC0RPG4QAld",
        "outputId": "ba39316c-28b1-4dbd-aa3c-d7dcf98ca8f1"
      },
      "outputs": [
        {
          "data": {
            "text/plain": [
              "0.6712328767123288"
            ]
          },
          "execution_count": 50,
          "metadata": {},
          "output_type": "execute_result"
        }
      ],
      "source": [
        "vysledek = dramas(movies, \"Drama\")\n",
        "pomer = len(vysledek)/len(movies)\n",
        "pomer"
      ]
    },
    {
      "cell_type": "markdown",
      "metadata": {
        "id": "OxIqO4HkQAlf"
      },
      "source": [
        "### Find movies by genre\n"
      ]
    },
    {
      "cell_type": "markdown",
      "metadata": {
        "id": "R8AW1nEqQAlf"
      },
      "source": [
        "Create a function called findByGenre that returns a list of movie titles that match a specific genre. The function should accept two arguments: the genre to search for and the list of movies.\n",
        "\n",
        "There is a function named findByGenre which returns a list of movie titles matching the specified genre. The genre to search for is passed as the first argument, and the list of movies as the second."
      ]
    },
    {
      "cell_type": "code",
      "execution_count": null,
      "metadata": {
        "id": "CUfoS3poQAlg"
      },
      "outputs": [],
      "source": [
        "# hotovo"
      ]
    },
    {
      "cell_type": "markdown",
      "metadata": {
        "id": "6EiEjU96QAlg"
      },
      "source": [
        "### Find the longest movie"
      ]
    },
    {
      "cell_type": "markdown",
      "metadata": {
        "id": "eaq5cJmXQAlg"
      },
      "source": [
        "Create a function named longestMovie that determines the movie with the longest runtime from a list of movies provided as an argument.\n",
        "\n",
        "A function called longestMovie is defined, returning the movie with the longest runtime from a provided list of movies."
      ]
    },
    {
      "cell_type": "code",
      "execution_count": null,
      "metadata": {
        "id": "N4RXCqr5QAlg",
        "outputId": "8bb3dd88-710c-4eea-85d2-c9d0013dffc0"
      },
      "outputs": [
        {
          "data": {
            "text/plain": [
              "92"
            ]
          },
          "execution_count": 57,
          "metadata": {},
          "output_type": "execute_result"
        }
      ],
      "source": [
        "movies[0][\"runtime\"]"
      ]
    },
    {
      "cell_type": "code",
      "execution_count": null,
      "metadata": {
        "id": "dAff4nsBQAlh"
      },
      "outputs": [],
      "source": [
        "def longest_movie(movie_list):\n",
        "    # paměť, kde uložíme nejdelší film -> začínáme s prázdným názvem a nulovou délkou\n",
        "    aktualne_nejdelsi = {\"nazev\": \"\", \"delka\": 0}\n",
        "    # pro každý film\n",
        "    for film_dict in movie_list:\n",
        "        # pokud runtime filmu je větší než u aktuálního nejdelšího filmu\n",
        "        if film_dict[\"runtime\"] > aktualne_nejdelsi[\"delka\"]:\n",
        "            # přepiš aktuálně nejdelší film novým názvem a délkou\n",
        "            aktualne_nejdelsi = {\"nazev\": film_dict[\"title\"], \"delka\": film_dict[\"runtime\"]}\n",
        "    # vracíme jako slovník s údaji název a délka\n",
        "    return aktualne_nejdelsi"
      ]
    },
    {
      "cell_type": "code",
      "execution_count": null,
      "metadata": {
        "id": "Qxa5pNYvQAlh",
        "outputId": "7c00e6b5-64e8-40f2-88d1-65a9e1cdc1f7"
      },
      "outputs": [
        {
          "data": {
            "text/plain": [
              "{'nazev': 'Once Upon a Time in America', 'delka': 229}"
            ]
          },
          "execution_count": 63,
          "metadata": {},
          "output_type": "execute_result"
        }
      ],
      "source": [
        "longest_movie(movies)"
      ]
    },
    {
      "cell_type": "code",
      "execution_count": null,
      "metadata": {
        "id": "_0EpplRpQAlh"
      },
      "outputs": [],
      "source": [
        "def longest_movie_DS(movie_list):\n",
        "    # Data Science řešení -> list comprehension, který vytvoří dvojice tuple, kde první je délka -> seřadit a vzít posledního\n",
        "    return sorted([(film_dict[\"runtime\"], film_dict[\"title\"]) for film_dict in movie_list])[-1]"
      ]
    },
    {
      "cell_type": "code",
      "execution_count": null,
      "metadata": {
        "id": "-XApqEjsQAlh",
        "outputId": "56665ebd-017e-4ed6-d4c4-8abe09ce81bc"
      },
      "outputs": [
        {
          "data": {
            "text/plain": [
              "(229, 'Once Upon a Time in America')"
            ]
          },
          "execution_count": 72,
          "metadata": {},
          "output_type": "execute_result"
        }
      ],
      "source": [
        "longest_movie_DS(movies)"
      ]
    },
    {
      "cell_type": "markdown",
      "metadata": {
        "id": "Lh7hviKRQAlh"
      },
      "source": [
        "### Find the longest movie by genre"
      ]
    },
    {
      "cell_type": "markdown",
      "metadata": {
        "id": "wLoWMQpBQAli"
      },
      "source": [
        "Develop a function named longestMovieByGenre that identifies the movie with the longest runtime within a specific genre. The function should accept the genre as its first argument and the list of movies as its second.\n",
        "\n",
        "A function called longestMovieByGenre is implemented, which finds the movie with the longest runtime in a specified genre. The genre is the first argument, and the list of movies is the second."
      ]
    },
    {
      "cell_type": "code",
      "execution_count": null,
      "metadata": {
        "id": "tjxqmea7QAli"
      },
      "outputs": [],
      "source": [
        "def dramas_vrat_cely(movies_list, zanr=\"Drama\"):\n",
        "    # list pro uložení filmů splňujících podmínku\n",
        "    filmy = []\n",
        "    # pro každý film\n",
        "    for film_dict in movies_list:\n",
        "        # pokud hledaný žánr je uložený u daného filmu pod klíčem genres\n",
        "        if zanr in film_dict[\"genres\"]:\n",
        "            # zapsat do listu s výsledky CELÝ slovník\n",
        "            filmy.append(film_dict)\n",
        "    # vrátit výsledný list\n",
        "    return filmy"
      ]
    },
    {
      "cell_type": "code",
      "execution_count": null,
      "metadata": {
        "id": "JaS9MC12QAli"
      },
      "outputs": [],
      "source": [
        "def longest_movie_by_genre(movie_list, zanr=\"Drama\"):\n",
        "    # první zavoláme filtrovací funkci podle žánru\n",
        "    filmy_drama = dramas_vrat_cely(movie_list, zanr)\n",
        "    # na vyfiltrovaná data zavoláme funkci pro hledání nejdelšího filmu\n",
        "    return longest_movie(filmy_drama)"
      ]
    },
    {
      "cell_type": "code",
      "execution_count": null,
      "metadata": {
        "id": "Vlhd1oUCQAli",
        "outputId": "5021c97a-36d8-4f3f-f842-96fdbcde3225"
      },
      "outputs": [
        {
          "data": {
            "text/plain": [
              "{'nazev': 'The Shining', 'delka': 146}"
            ]
          },
          "execution_count": 84,
          "metadata": {},
          "output_type": "execute_result"
        }
      ],
      "source": [
        "longest_movie_by_genre(movies, \"Horror\")"
      ]
    },
    {
      "cell_type": "markdown",
      "metadata": {
        "id": "LnUn79S4QAlj"
      },
      "source": [
        "### Obohacení dat"
      ]
    },
    {
      "cell_type": "code",
      "execution_count": null,
      "metadata": {
        "id": "jCrPbNLGQAlj"
      },
      "outputs": [],
      "source": [
        "import requests"
      ]
    },
    {
      "cell_type": "code",
      "execution_count": null,
      "metadata": {
        "id": "Av0d17w0QAlj"
      },
      "outputs": [],
      "source": [
        "def vytvor_url_dotaz(parametr, url_base):\n",
        "  # vrací spojení základní url a jména\n",
        "  return url_base + parametr"
      ]
    },
    {
      "cell_type": "code",
      "execution_count": null,
      "metadata": {
        "id": "rTPPmnwmQAlj"
      },
      "outputs": [],
      "source": [
        "def validni_dotaz(odpoved, no_data=\"[]\"):\n",
        "  # musím zkontrolovat, jestli dotaz proběhl úspěšně -> status code = 200 a zároveň, jestli jsem dostal nějaká data\n",
        "  # pokud nebyla data nalezena pro zadané jméno -> vrací se \"[]\" prázdný json list\n",
        "  if odpoved.status_code == 200 and odpoved.text != no_data:\n",
        "    return True\n",
        "  else:\n",
        "    return False"
      ]
    },
    {
      "cell_type": "code",
      "execution_count": null,
      "metadata": {
        "id": "uAONO19UQAlk"
      },
      "outputs": [],
      "source": [
        "def pridej_informace(movie, odpoved, informace=[\"BoxOffice\", \"imdbRating\", \"Awards\"]):\n",
        "    # převeď odpoved.text na Python datové typy\n",
        "    data_k_obohaceni = odpoved.json()\n",
        "    # pro každou informaci, kterou chci\n",
        "    for key in informace:\n",
        "        # pokud už tam ta informace není\n",
        "        if key not in movie.keys():\n",
        "            # movie[key] -> sem chci do filmu pod klíč uložit - data_k_obohaceni[key] -> vybrat hodnotu z odpovedi\n",
        "            movie[key] = data_k_obohaceni[key]\n",
        "    return movie"
      ]
    },
    {
      "cell_type": "code",
      "execution_count": null,
      "metadata": {
        "id": "ijlPtRLNQAlk"
      },
      "outputs": [],
      "source": [
        "movies_small = movies[:5]\n",
        "url_base = \"https://www.omdbapi.com/?apikey=eb840ebe&t=\"\n",
        "no_data = '{\"Response\":\"False\",\"Error\":\"Movie not found!\"}'\n",
        "\n",
        "# list do krerého budeme ukládat filmy obohacené o dodatečné informace\n",
        "nove_filmy = []\n",
        "# pro každý film z filmů\n",
        "for film in movies_small:\n",
        "    # vytvoř url pro daný film pro dotaz na server\n",
        "    url = vytvor_url_dotaz(film[\"title\"], url_base)\n",
        "    # proveď get dotaz\n",
        "    odpoved = requests.get(url)\n",
        "    # pokud to dopadlo dobře a mám data\n",
        "    if validni_dotaz(odpoved, no_data):\n",
        "      # obohať\n",
        "      upraveny_film = pridej_informace(film, odpoved)\n",
        "      # přidat k novým filmům\n",
        "      nove_filmy.append(upraveny_film)\n",
        "    else:\n",
        "      print(f\"Pro film '{film['title']}' nebyla nalezena data!.\")\n",
        "      # přidat k novým filmům\n",
        "      nove_filmy.append(film)"
      ]
    },
    {
      "cell_type": "code",
      "source": [
        "import json"
      ],
      "metadata": {
        "id": "jhKN0kQdU5L2"
      },
      "execution_count": null,
      "outputs": []
    },
    {
      "cell_type": "code",
      "execution_count": null,
      "metadata": {
        "id": "2_B6tlULQAlk"
      },
      "outputs": [],
      "source": [
        "def uloz_json_data(data, nazev_souboru):\n",
        "  # otevřít referenci na soubor -> cesta/název souboru a mód (w - write -> zápis, t - text -> textový formát)\n",
        "  reference_soubor = open(nazev_souboru, \"wt\")\n",
        "  # z knihovny json použít metodu dump -> zápis do souboru (co - data, kam - reference na soubor)\n",
        "  json.dump(data, reference_soubor)\n",
        "  # po ukončení práce se souborem, zavřít referenci\n",
        "  reference_soubor.close()"
      ]
    },
    {
      "cell_type": "code",
      "source": [
        "uloz_json_data(nove_filmy, \"filmy.json\")"
      ],
      "metadata": {
        "id": "LNkEW27hVBji"
      },
      "execution_count": null,
      "outputs": []
    },
    {
      "cell_type": "code",
      "source": [
        "def nacti_json(soubor):\n",
        "  # otevřít referenci na soubor -> cesta/název souboru a mód (r - write -> čtení, t - text -> textový formát)\n",
        "  reference_soubor = open(soubor, \"rt\")\n",
        "  # z knihovny json použít metodu load -> čtení ze souboru (odkud - reference na soubor)\n",
        "  data = json.load(reference_soubor)\n",
        "  # po ukončení práce se souborem, zavřít referenci\n",
        "  reference_soubor.close()\n",
        "  # vracím načtená data\n",
        "  return data"
      ],
      "metadata": {
        "id": "1SA2JtHcVM4m"
      },
      "execution_count": null,
      "outputs": []
    },
    {
      "cell_type": "code",
      "source": [
        "moje_filmy = nacti_json(\"filmy.json\")"
      ],
      "metadata": {
        "id": "QFZU7_SiVeFR"
      },
      "execution_count": null,
      "outputs": []
    },
    {
      "cell_type": "code",
      "source": [
        "moje_filmy"
      ],
      "metadata": {
        "colab": {
          "base_uri": "https://localhost:8080/"
        },
        "id": "kz9VLuY0Vivy",
        "outputId": "9382d4d9-f952-4250-c0d7-8a15d1cbde3e"
      },
      "execution_count": null,
      "outputs": [
        {
          "output_type": "execute_result",
          "data": {
            "text/plain": [
              "[{'id': 1,\n",
              "  'title': 'Beetlejuice',\n",
              "  'year': 1988,\n",
              "  'runtime': 92,\n",
              "  'genres': ['Comedy', 'Fantasy'],\n",
              "  'director': 'Tim Burton',\n",
              "  'actors': ['Alec Baldwin', 'Geena Davis', 'Annie McEnroe', 'Maurice Page'],\n",
              "  'plot': \"A couple of recently deceased ghosts contract the services of a 'bio-exorcist' in order to remove the obnoxious new owners of their house.\",\n",
              "  'BoxOffice': '$74,664,632',\n",
              "  'imdbRating': '7.5',\n",
              "  'Awards': 'Won 1 Oscar. 7 wins & 11 nominations total'},\n",
              " {'id': 2,\n",
              "  'title': 'The Cotton Club',\n",
              "  'year': 1984,\n",
              "  'runtime': 127,\n",
              "  'genres': ['Crime', 'Drama', 'Music'],\n",
              "  'director': 'Francis Ford Coppola',\n",
              "  'actors': ['Richard Gere', 'Gregory Hines', 'Diane Lane', 'Lonette McKee'],\n",
              "  'plot': 'The Cotton Club was a famous night club in Harlem. The story follows the people that visited the club, those that ran it, and is peppered with the Jazz music that made it so famous.',\n",
              "  'BoxOffice': '$25,928,721',\n",
              "  'imdbRating': '6.5',\n",
              "  'Awards': 'Nominated for 2 Oscars. 1 win & 8 nominations total'},\n",
              " {'id': 3,\n",
              "  'title': 'The Shawshank Redemption',\n",
              "  'year': 1994,\n",
              "  'runtime': 142,\n",
              "  'genres': ['Crime', 'Drama'],\n",
              "  'director': 'Frank Darabont',\n",
              "  'actors': ['Tim Robbins', 'Morgan Freeman', 'Bob Gunton', 'William Sadler'],\n",
              "  'plot': 'Two imprisoned men bond over a number of years, finding solace and eventual redemption through acts of common decency.',\n",
              "  'BoxOffice': '$28,767,189',\n",
              "  'imdbRating': '9.3',\n",
              "  'Awards': 'Nominated for 7 Oscars. 21 wins & 42 nominations total'},\n",
              " {'id': 4,\n",
              "  'title': 'Crocodile Dundee',\n",
              "  'year': 1986,\n",
              "  'runtime': 97,\n",
              "  'genres': ['Adventure', 'Comedy'],\n",
              "  'director': 'Peter Faiman',\n",
              "  'actors': ['Paul Hogan',\n",
              "   'Linda Kozlowski',\n",
              "   'John Meillon',\n",
              "   'David Gulpilil'],\n",
              "  'plot': 'An American reporter goes to the Australian outback to meet an eccentric crocodile poacher and invites him to New York City.',\n",
              "  'BoxOffice': '$174,803,506',\n",
              "  'imdbRating': '6.6',\n",
              "  'Awards': 'Nominated for 1 Oscar. 3 wins & 12 nominations total'},\n",
              " {'id': 5,\n",
              "  'title': 'Valkyrie',\n",
              "  'year': 2008,\n",
              "  'runtime': 121,\n",
              "  'genres': ['Drama', 'History', 'Thriller'],\n",
              "  'director': 'Bryan Singer',\n",
              "  'actors': ['Tom Cruise', 'Kenneth Branagh', 'Bill Nighy', 'Tom Wilkinson'],\n",
              "  'plot': 'A dramatization of the 20 July assassination and political coup plot by desperate renegade German Army officers against Hitler during World War II.',\n",
              "  'BoxOffice': '$83,077,833',\n",
              "  'imdbRating': '7.1',\n",
              "  'Awards': '3 wins & 11 nominations'}]"
            ]
          },
          "metadata": {},
          "execution_count": 24
        }
      ]
    },
    {
      "cell_type": "markdown",
      "metadata": {
        "id": "Fg2bQm0iQAlk"
      },
      "source": [
        "### Comprehensions"
      ]
    },
    {
      "cell_type": "code",
      "execution_count": null,
      "metadata": {
        "id": "dVqfSPKFQAll"
      },
      "outputs": [],
      "source": [
        "# list comprehension -> z jednoho listu vytvořit nový\n",
        "list_1 = [5, 2, 7, 10]\n",
        "list_2 = [cislo ** 2 for cislo in list_1 if cislo % 2 == 0]\n",
        "print(list_2)\n",
        "# dict comprehension\n",
        "tel_cisla = {\"policie\": 158, \"hasici\": 150, \"zachranka\": 155}\n",
        "predvolba = {key:\"+420 \" + str(tel_cisla[key]) for key in tel_cisla}\n",
        "print(predvolba)"
      ]
    }
  ],
  "metadata": {
    "kernelspec": {
      "display_name": "Python 3",
      "language": "python",
      "name": "python3"
    },
    "language_info": {
      "codemirror_mode": {
        "name": "ipython",
        "version": 3
      },
      "file_extension": ".py",
      "mimetype": "text/x-python",
      "name": "python",
      "nbconvert_exporter": "python",
      "pygments_lexer": "ipython3",
      "version": "3.10.11"
    },
    "colab": {
      "provenance": []
    }
  },
  "nbformat": 4,
  "nbformat_minor": 0
}