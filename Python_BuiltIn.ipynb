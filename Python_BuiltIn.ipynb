{
 "cells": [
  {
   "cell_type": "markdown",
   "metadata": {},
   "source": [
    "### String repeat"
   ]
  },
  {
   "cell_type": "markdown",
   "metadata": {},
   "source": [
    "The pizza company's customers have unique tastes; they prefer pizza names to be stylized in a particular way. Create a Python function named string_repeat() that takes two arguments, number (an integer) and str (a string), and returns the str repeated number times.\n",
    "\n",
    "The string_repeat(2, \"HawaiiPizza\") function should return the string HawaiiPizzaHawaiiPizza"
   ]
  },
  {
   "cell_type": "code",
   "execution_count": 16,
   "metadata": {},
   "outputs": [],
   "source": [
    "def string_repeat(cislo, text):\n",
    "    return text * cislo"
   ]
  },
  {
   "cell_type": "code",
   "execution_count": 22,
   "metadata": {},
   "outputs": [
    {
     "data": {
      "text/plain": [
       "'pizzapizzapizza'"
      ]
     },
     "execution_count": 22,
     "metadata": {},
     "output_type": "execute_result"
    }
   ],
   "source": [
    "string_repeat(3, \"pizza\")"
   ]
  },
  {
   "cell_type": "markdown",
   "metadata": {},
   "source": [
    "### No whitespaces"
   ]
  },
  {
   "cell_type": "markdown",
   "metadata": {},
   "source": [
    "No whitespaces\n",
    "Due to a design oversight, the pizza names are too long for the website's layout. The quickest fix is to remove all spaces from the names. Write a Python function named no_space() that takes a string str and returns it without any spaces.\n",
    "\n",
    "The no_space() function must return a string with all whitespaces removed"
   ]
  },
  {
   "cell_type": "code",
   "execution_count": 38,
   "metadata": {},
   "outputs": [],
   "source": [
    "def no_space(text):\n",
    "    return text.replace(\" \", \"\")"
   ]
  },
  {
   "cell_type": "code",
   "execution_count": 40,
   "metadata": {},
   "outputs": [
    {
     "data": {
      "text/plain": [
       "'abc'"
      ]
     },
     "execution_count": 40,
     "metadata": {},
     "output_type": "execute_result"
    }
   ],
   "source": [
    "test_string = \" a b     c   \"\n",
    "no_space(test_string)"
   ]
  },
  {
   "cell_type": "markdown",
   "metadata": {},
   "source": [
    "### Number to string"
   ]
  },
  {
   "cell_type": "markdown",
   "metadata": {},
   "source": [
    "The order system is flawed; it can only process string inputs. Write a Python function named number_to_string() that accepts an integer and returns it as a string.\n",
    "\n",
    "The number_to_string() function should return a string."
   ]
  },
  {
   "cell_type": "code",
   "execution_count": 67,
   "metadata": {},
   "outputs": [],
   "source": [
    "def number_to_string(number):\n",
    "    if isinstance(number, int) or isinstance(number, float):\n",
    "        return str(number)\n",
    "    else:\n",
    "        print(f\"This '{number}' is not number!\")"
   ]
  },
  {
   "cell_type": "code",
   "execution_count": 70,
   "metadata": {},
   "outputs": [
    {
     "data": {
      "text/plain": [
       "'10'"
      ]
     },
     "execution_count": 70,
     "metadata": {},
     "output_type": "execute_result"
    }
   ],
   "source": [
    "number_to_string(10)"
   ]
  },
  {
   "cell_type": "code",
   "execution_count": 48,
   "metadata": {},
   "outputs": [],
   "source": [
    "slovnik_cislice = {\n",
    "    0:\"nula\",\n",
    "    1:\"jedna\",\n",
    "    2:\"dva\",\n",
    "    3:\"tři\"\n",
    "}"
   ]
  },
  {
   "cell_type": "code",
   "execution_count": 54,
   "metadata": {},
   "outputs": [],
   "source": [
    "def preloz(co_chci_prelozit, podle_ceho_prelozit):\n",
    "    if co_chci_prelozit in podle_ceho_prelozit.keys():\n",
    "        return podle_ceho_prelozit[co_chci_prelozit]\n",
    "    else:\n",
    "        print(f\"{co_chci_prelozit} nenalezeno ve slovníku!\")"
   ]
  },
  {
   "cell_type": "code",
   "execution_count": 55,
   "metadata": {},
   "outputs": [
    {
     "data": {
      "text/plain": [
       "'tři'"
      ]
     },
     "execution_count": 55,
     "metadata": {},
     "output_type": "execute_result"
    }
   ],
   "source": [
    "preloz(3, slovnik_cislice)"
   ]
  },
  {
   "cell_type": "markdown",
   "metadata": {},
   "source": [
    "### Boolean to string"
   ]
  },
  {
   "cell_type": "markdown",
   "metadata": {},
   "source": [
    "There are still issues with the ordering system. Create a Python function named boolean_to_string() that takes a boolean and returns it as a string.\n",
    "\n",
    "The boolean_to_string() function should return a string"
   ]
  },
  {
   "cell_type": "code",
   "execution_count": 64,
   "metadata": {},
   "outputs": [],
   "source": [
    "def boolean_to_string(boolean):\n",
    "    if isinstance(boolean, bool):\n",
    "        return str(boolean)\n",
    "    else:\n",
    "        print(f\"This '{boolean}' is not boolean!\")"
   ]
  },
  {
   "cell_type": "code",
   "execution_count": 66,
   "metadata": {},
   "outputs": [
    {
     "data": {
      "text/plain": [
       "'False'"
      ]
     },
     "execution_count": 66,
     "metadata": {},
     "output_type": "execute_result"
    }
   ],
   "source": [
    "boolean_to_string(False)"
   ]
  },
  {
   "cell_type": "markdown",
   "metadata": {},
   "source": [
    "### Abbreviate a Pizza name"
   ]
  },
  {
   "cell_type": "markdown",
   "metadata": {},
   "source": [
    "To simplify the waitstaff's job, we need a function to abbreviate pizza names. Write a Python function named abbrev_name() that accepts a string consisting of two words and returns the initials of each word, separated by a dot.\n",
    "\n",
    "The abbrev_name(\"Hawaii Pizza\") function should return \"H.P\""
   ]
  },
  {
   "cell_type": "code",
   "execution_count": 119,
   "metadata": {},
   "outputs": [],
   "source": [
    "def abbrev_name(text):\n",
    "    inicialy = \"\"\n",
    "    for slovo in text.split(\" \"):\n",
    "        if slovo[0].isupper():\n",
    "            inicialy += \".\" + slovo[0]\n",
    "    return inicialy[1:]"
   ]
  },
  {
   "cell_type": "code",
   "execution_count": 120,
   "metadata": {},
   "outputs": [
    {
     "data": {
      "text/plain": [
       "'C.L.I.T.O.R.I.S'"
      ]
     },
     "execution_count": 120,
     "metadata": {},
     "output_type": "execute_result"
    }
   ],
   "source": [
    "text = \"Committee for the Liberation and Integration of Terrifying Organisms and their Rehabilitation Into Society\"\n",
    "abbrev_name(text)"
   ]
  },
  {
   "cell_type": "code",
   "execution_count": 112,
   "metadata": {},
   "outputs": [
    {
     "data": {
      "text/plain": [
       "'H.P.w.A.a.C'"
      ]
     },
     "execution_count": 112,
     "metadata": {},
     "output_type": "execute_result"
    }
   ],
   "source": [
    "\".\".join([slovo[0] for slovo in text.split(\" \")])"
   ]
  },
  {
   "cell_type": "markdown",
   "metadata": {},
   "source": [
    "### Pizza length"
   ]
  },
  {
   "cell_type": "markdown",
   "metadata": {},
   "source": [
    "Create a Python function named name_length() that takes a string and returns a list where each element's length is appended next to it.\n",
    "\n",
    "The name_length(\"hawaii pizza\") function should return [\"hawaii 6\", \"pizza 5\"]."
   ]
  },
  {
   "cell_type": "code",
   "execution_count": 138,
   "metadata": {},
   "outputs": [],
   "source": [
    "def name_length(text):\n",
    "    vysledek = []\n",
    "    for slovo in text.split(\" \"):\n",
    "        if slovo[0].isupper():\n",
    "            vysledek.append(slovo + \" \" + str(len(slovo)))\n",
    "    return vysledek"
   ]
  },
  {
   "cell_type": "code",
   "execution_count": 139,
   "metadata": {},
   "outputs": [
    {
     "data": {
      "text/plain": [
       "['Committee 9',\n",
       " 'Liberation 10',\n",
       " 'Integration 11',\n",
       " 'Terrifying 10',\n",
       " 'Organisms 9',\n",
       " 'Rehabilitation 14',\n",
       " 'Into 4',\n",
       " 'Society 7']"
      ]
     },
     "execution_count": 139,
     "metadata": {},
     "output_type": "execute_result"
    }
   ],
   "source": [
    "text = \"Committee for the Liberation and Integration of Terrifying Organisms and their Rehabilitation Into Society\"\n",
    "name_length(text)"
   ]
  },
  {
   "cell_type": "code",
   "execution_count": 132,
   "metadata": {},
   "outputs": [
    {
     "data": {
      "text/plain": [
       "['Committee 9',\n",
       " 'Liberation 10',\n",
       " 'Integration 11',\n",
       " 'Terrifying 10',\n",
       " 'Organisms 9',\n",
       " 'Rehabilitation 14',\n",
       " 'Into 4',\n",
       " 'Society 7']"
      ]
     },
     "execution_count": 132,
     "metadata": {},
     "output_type": "execute_result"
    }
   ],
   "source": [
    "[slovo + \" \" + str(len(slovo)) for slovo in text.split(\" \") if slovo[0].isupper()]"
   ]
  },
  {
   "cell_type": "markdown",
   "metadata": {},
   "source": [
    "### Remove the first and last element"
   ]
  },
  {
   "cell_type": "markdown",
   "metadata": {},
   "source": [
    "Due to an error, two extra orders were added by mistake. Write a Python function named remove_orders() that takes a string of numbers separated by commas, converts it into a list, removes the first and last elements, and then returns the modified list as a string.\n",
    "\n",
    "The remove_orders(\"1,2,3,4\") function should return \"2,3\"."
   ]
  },
  {
   "cell_type": "code",
   "execution_count": 153,
   "metadata": {},
   "outputs": [],
   "source": [
    "def remove_orders(text):\n",
    "    return \",\".join([char for char in text if char != \",\"][1:-1])"
   ]
  },
  {
   "cell_type": "code",
   "execution_count": 156,
   "metadata": {},
   "outputs": [
    {
     "data": {
      "text/plain": [
       "'4,5,6'"
      ]
     },
     "execution_count": 156,
     "metadata": {},
     "output_type": "execute_result"
    }
   ],
   "source": [
    "text = \"3,4,5,6,7\"\n",
    "remove_orders(text)"
   ]
  },
  {
   "cell_type": "code",
   "execution_count": 152,
   "metadata": {},
   "outputs": [
    {
     "data": {
      "text/plain": [
       "'2,3'"
      ]
     },
     "execution_count": 152,
     "metadata": {},
     "output_type": "execute_result"
    }
   ],
   "source": [
    "\",\".join([char for char in text if char != \",\"][1:-1])"
   ]
  },
  {
   "cell_type": "code",
   "execution_count": 151,
   "metadata": {},
   "outputs": [
    {
     "data": {
      "text/plain": [
       "'2,3'"
      ]
     },
     "execution_count": 151,
     "metadata": {},
     "output_type": "execute_result"
    }
   ],
   "source": [
    "text[2:-2]"
   ]
  },
  {
   "cell_type": "code",
   "execution_count": 169,
   "metadata": {},
   "outputs": [
    {
     "data": {
      "text/plain": [
       "'4,5,6'"
      ]
     },
     "execution_count": 169,
     "metadata": {},
     "output_type": "execute_result"
    }
   ],
   "source": [
    "pomocny_list = []\n",
    "for znak in text:\n",
    "    if znak != \",\":\n",
    "        pomocny_list.append(znak)\n",
    "\",\".join(pomocny_list[1:-1])"
   ]
  },
  {
   "cell_type": "markdown",
   "metadata": {},
   "source": [
    "### The menu"
   ]
  },
  {
   "cell_type": "markdown",
   "metadata": {},
   "source": [
    "Implement a Python function named food_menu() that takes a list of food items as an argument and returns a new list with each item prefixed by its position in the original list.\n",
    "\n",
    "The food_menu([\"Hawaii Pizza\", \"Diablo Pizza\"]) function should return [\"1. Hawaii Pizza\", \"2. Diablo Pizza\"]."
   ]
  },
  {
   "cell_type": "code",
   "execution_count": 186,
   "metadata": {},
   "outputs": [],
   "source": [
    "def food_menu(jidla):\n",
    "    return [str(index + 1) + \". \" + jidlo for index, jidlo in enumerate(sorted(jidla))]"
   ]
  },
  {
   "cell_type": "code",
   "execution_count": 187,
   "metadata": {},
   "outputs": [
    {
     "data": {
      "text/plain": [
       "['1. Diablo Pizza', '2. Hawaii Pizza']"
      ]
     },
     "execution_count": 187,
     "metadata": {},
     "output_type": "execute_result"
    }
   ],
   "source": [
    "jidla = [\"Hawaii Pizza\", \"Diablo Pizza\"]\n",
    "food_menu(jidla)"
   ]
  },
  {
   "cell_type": "code",
   "execution_count": 194,
   "metadata": {},
   "outputs": [
    {
     "data": {
      "text/plain": [
       "['1. Diablo Pizza', '2. Hawaii Pizza']"
      ]
     },
     "execution_count": 194,
     "metadata": {},
     "output_type": "execute_result"
    }
   ],
   "source": [
    "vysledek = []\n",
    "for index, hodnota in enumerate(sorted(jidla)):\n",
    "    index += 1\n",
    "    text = str(index) + \". \" + hodnota\n",
    "    vysledek.append(text)\n",
    "vysledek"
   ]
  }
 ],
 "metadata": {
  "kernelspec": {
   "display_name": "Python 3",
   "language": "python",
   "name": "python3"
  },
  "language_info": {
   "codemirror_mode": {
    "name": "ipython",
    "version": 3
   },
   "file_extension": ".py",
   "mimetype": "text/x-python",
   "name": "python",
   "nbconvert_exporter": "python",
   "pygments_lexer": "ipython3",
   "version": "3.10.11"
  }
 },
 "nbformat": 4,
 "nbformat_minor": 2
}
