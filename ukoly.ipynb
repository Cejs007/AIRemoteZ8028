{
 "cells": [
  {
   "cell_type": "markdown",
   "metadata": {},
   "source": [
    "### Úkol 1 - text hledání"
   ]
  },
  {
   "cell_type": "code",
   "execution_count": 16,
   "metadata": {},
   "outputs": [],
   "source": [
    "def vyhledej_znak(slovo, znak):\n",
    "    \"\"\"\n",
    "    vyhledej v libovolném textu znak a spočítej, kolikrát se tam objevil\n",
    "    \"\"\"\n",
    "    # chci aby vyhledávání nebylo citlivé na malá/velká písmena -> vše převedu na malé\n",
    "    slovo = slovo.lower()\n",
    "    znak = znak.lower()\n",
    "    # čítač -> proměnná, která bude na začátku nula, a do které pokud najdu 'znak' přičtu jedničku\n",
    "    pocet_nalezeni = 0\n",
    "    # for smyčku -> pro každé pismeno ze slova 'slovo'\n",
    "    for pismeno in slovo:\n",
    "        # zkontrolovat, jestli to aktuální písmeno je rovno 'znak' -> if\n",
    "        if pismeno == znak:\n",
    "            # pokud ano -> přičítám 1 do čítače\n",
    "            pocet_nalezeni += 1\n",
    "    return pocet_nalezeni"
   ]
  },
  {
   "cell_type": "code",
   "execution_count": 17,
   "metadata": {},
   "outputs": [
    {
     "data": {
      "text/plain": [
       "3"
      ]
     },
     "execution_count": 17,
     "metadata": {},
     "output_type": "execute_result"
    }
   ],
   "source": [
    "vyhledej_znak(\"KraftfahrzeugHaftpflichtversicherung\", \"a\")"
   ]
  },
  {
   "cell_type": "markdown",
   "metadata": {},
   "source": [
    "### Úkol 2 - Založení hesla"
   ]
  },
  {
   "cell_type": "code",
   "execution_count": 18,
   "metadata": {},
   "outputs": [],
   "source": [
    "def zkontroluj_heslo(heslo, min_delka=10, min_upper=2, min_numeric_perc=0.3):\n",
    "    \"\"\"\n",
    "    Zkontroluj, jestli heslo splňuje požadavky:\n",
    "    - minimální délka hesla\n",
    "    - alespoň nějaký počet velkých písmen\n",
    "    - minimální poměr čísel vůči počtu znaků\n",
    "    \"\"\"\n",
    "\n",
    "    # je heslo dostatečně dlouhé -> if + len\n",
    "\n",
    "    # čítače -> pro počítání když najdu velké písmeno nebo číslici\n",
    "\n",
    "    # pro každý znak ze zadaného hesla\n",
    "\n",
    "        # je to velké písmeno? -> if isupper - pokud ano přičíst do čítače\n",
    "\n",
    "        # je to číslice? -> if isnumeric - pokud ano přičíst do čítače\n",
    "\n",
    "    # kontrola, jestli mám dost velkých písmen\n",
    "\n",
    "    # kontrola, jestli mám dost numerických hodnot (kontrola poměru)\n"
   ]
  },
  {
   "cell_type": "code",
   "execution_count": 19,
   "metadata": {},
   "outputs": [],
   "source": [
    "heslo = input(\"Vymysli nové heslo: \")"
   ]
  },
  {
   "cell_type": "code",
   "execution_count": 20,
   "metadata": {},
   "outputs": [],
   "source": [
    "zkontroluj_heslo(heslo)"
   ]
  },
  {
   "cell_type": "markdown",
   "metadata": {},
   "source": [
    "### Úkol 3 - > vsazení sportky"
   ]
  },
  {
   "cell_type": "code",
   "execution_count": null,
   "metadata": {},
   "outputs": [],
   "source": [
    "def vsad_sportku(pocet_cisel=6, min_hodnota=1, max_hodnota=49):\n",
    "    \"\"\"\n",
    "    Vsazení šťastných čísel uživatelem.\n",
    "    - chceme 6 čísel bez opakování\n",
    "    - v rozmezí od 1 do 49\n",
    "    \"\"\"\n",
    "    # kam budu ukládat čísla, když splním všechny podmínky\n",
    "\n",
    "    # iteruj, dokud nebudu mít 6 čísel\n",
    "\n",
    "        # vstup uživatele -> input pro zadání čísla\n",
    "\n",
    "        # pokud zadaný text je číslo\n",
    "\n",
    "            # přetypuj text na integer\n",
    "\n",
    "              # pokud je číslo ve správném rozpětí -> zadané číslo mezi 1 - 49\n",
    "\n",
    "                  # pokud ho už nemám -> zadané číslo není v mým dosud uložených číslech\n",
    "\n",
    "                    # teprve teď můžu uložit -> vše splněno\n",
    "\n",
    "                # výpis else -> číslo se opakuje -> už ho mám\n",
    "\n",
    "            # výpis else -> číslo není ve správném intervalu\n",
    "        \n",
    "        # výpis else -> zadaný input není číslo"
   ]
  },
  {
   "cell_type": "markdown",
   "metadata": {},
   "source": [
    "### Úkol 4 - Losování Sportky"
   ]
  },
  {
   "cell_type": "code",
   "execution_count": null,
   "metadata": {},
   "outputs": [],
   "source": [
    "def losuj_sportku(pocet_cisel=6, min_hodnota=1, max_hodnota=49):\n",
    "  \"\"\"\n",
    "  Simulace losování sportky.\n",
    "  \"\"\"\n",
    "  # range -> vygeneruj sekvenci čísel od (včetně) - do (bez)\n",
    "  \n",
    "  # sample -> vyber z něčeho n náhodných prvků bez opakování\n",
    "  \n"
   ]
  }
 ],
 "metadata": {
  "kernelspec": {
   "display_name": "Python 3",
   "language": "python",
   "name": "python3"
  },
  "language_info": {
   "codemirror_mode": {
    "name": "ipython",
    "version": 3
   },
   "file_extension": ".py",
   "mimetype": "text/x-python",
   "name": "python",
   "nbconvert_exporter": "python",
   "pygments_lexer": "ipython3",
   "version": "3.10.11"
  }
 },
 "nbformat": 4,
 "nbformat_minor": 2
}
