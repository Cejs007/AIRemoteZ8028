{
 "cells": [
  {
   "cell_type": "markdown",
   "metadata": {},
   "source": [
    "### Úkol 1 - text hledání"
   ]
  },
  {
   "cell_type": "code",
   "execution_count": null,
   "metadata": {},
   "outputs": [],
   "source": [
    "def vyhledej_znak(slovo, znak):\n",
    "    \"\"\"\n",
    "    vyhledej v libovolném textu znak a spočítej, kolikrát se tam objevil\n",
    "    \"\"\"\n",
    "\n",
    "    # čítač -> proměnná, která bude na začátku nula, a do které pokud najdu 'znak' přičtu jedničku\n",
    "\n",
    "    # for smyčku -> pro každé pismeno ze slova 'slovo'\n",
    "\n",
    "        # zkontrolovat, jestli to aktuální písmeno je rovno 'znak' -> if\n",
    "\n",
    "        # pokud ano -> přičítám 1 do čítače\n"
   ]
  },
  {
   "cell_type": "markdown",
   "metadata": {},
   "source": [
    "### Úkol 2 - Založení hesla"
   ]
  },
  {
   "cell_type": "code",
   "execution_count": null,
   "metadata": {},
   "outputs": [],
   "source": [
    "def zkontroluj_heslo(heslo, min_delka=10, min_upper=2, min_numeric_perc=0.3):\n",
    "    \"\"\"\n",
    "    Zkontroluj, jestli heslo splňuje požadavky:\n",
    "    - minimální délka hesla\n",
    "    - alespoň nějaký počet velkých písmen\n",
    "    - minimální poměr čísel vůči počtu znaků\n",
    "    \"\"\"\n",
    "\n",
    "    # je heslo dostatečně dlouhé -> if + len\n",
    "\n",
    "    # čítače -> pro počítání když najdu velké písmeno nebo číslici\n",
    "\n",
    "    # pro každý znak ze zadaného hesla\n",
    "\n",
    "        # je to velké písmeno? -> if isupper - pokud ano přičíst do čítače\n",
    "\n",
    "        # je to číslice? -> if isnumeric - pokud ano přičíst do čítače\n",
    "\n",
    "    # kontrola, jestli mám dost velkých písmen\n",
    "\n",
    "    # kontrola, jestli mám dost numerických hodnot (kontrola poměru)\n"
   ]
  }
 ],
 "metadata": {
  "kernelspec": {
   "display_name": "Python 3",
   "language": "python",
   "name": "python3"
  },
  "language_info": {
   "name": "python",
   "version": "3.10.11"
  }
 },
 "nbformat": 4,
 "nbformat_minor": 2
}
