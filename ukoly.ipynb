{
 "cells": [
  {
   "cell_type": "markdown",
   "metadata": {},
   "source": [
    "### Úkol 1 - text hledání"
   ]
  },
  {
   "cell_type": "code",
   "execution_count": 16,
   "metadata": {},
   "outputs": [],
   "source": [
    "def vyhledej_znak(slovo, znak):\n",
    "    \"\"\"\n",
    "    vyhledej v libovolném textu znak a spočítej, kolikrát se tam objevil\n",
    "    \"\"\"\n",
    "    # chci aby vyhledávání nebylo citlivé na malá/velká písmena -> vše převedu na malé\n",
    "    slovo = slovo.lower()\n",
    "    znak = znak.lower()\n",
    "    # čítač -> proměnná, která bude na začátku nula, a do které pokud najdu 'znak' přičtu jedničku\n",
    "    pocet_nalezeni = 0\n",
    "    # for smyčku -> pro každé pismeno ze slova 'slovo'\n",
    "    for pismeno in slovo:\n",
    "        # zkontrolovat, jestli to aktuální písmeno je rovno 'znak' -> if\n",
    "        if pismeno == znak:\n",
    "            # pokud ano -> přičítám 1 do čítače\n",
    "            pocet_nalezeni += 1\n",
    "    return pocet_nalezeni"
   ]
  },
  {
   "cell_type": "code",
   "execution_count": 17,
   "metadata": {},
   "outputs": [
    {
     "data": {
      "text/plain": [
       "3"
      ]
     },
     "execution_count": 17,
     "metadata": {},
     "output_type": "execute_result"
    }
   ],
   "source": [
    "vyhledej_znak(\"KraftfahrzeugHaftpflichtversicherung\", \"a\")"
   ]
  },
  {
   "cell_type": "markdown",
   "metadata": {},
   "source": [
    "### Úkol 2 - Založení hesla"
   ]
  },
  {
   "cell_type": "code",
   "execution_count": 21,
   "metadata": {},
   "outputs": [],
   "source": [
    "def zkontroluj_heslo(heslo, min_delka=10, min_upper=2, min_numeric_perc=0.3):\n",
    "    \"\"\"\n",
    "    Zkontroluj, jestli heslo splňuje požadavky:\n",
    "    - minimální délka hesla\n",
    "    - alespoň nějaký počet velkých písmen\n",
    "    - minimální poměr čísel vůči počtu znaků\n",
    "    \"\"\"\n",
    "    # je heslo dostatečně dlouhé -> if + len\n",
    "    if len(heslo) < min_delka:\n",
    "        print(f\"{heslo} je moc krátké!\")\n",
    "        return False\n",
    "    # čítače -> pro počítání když najdu velké písmeno nebo číslici\n",
    "    velka_pismena = 0\n",
    "    cislice = 0\n",
    "    # pro každý znak ze zadaného hesla\n",
    "    for znak in heslo:\n",
    "        # je to velké písmeno? -> if isupper - pokud ano přičíst do čítače\n",
    "        if znak.isupper():\n",
    "           velka_pismena += 1 \n",
    "        # je to číslice? -> if isnumeric - pokud ano přičíst do čítače\n",
    "        if znak.isnumeric():\n",
    "            cislice += 1\n",
    "    # kontrola, jestli mám dost velkých písmen\n",
    "    if velka_pismena < min_upper:\n",
    "        print(f\"{heslo} má málo velkých písmen!\")\n",
    "        return False\n",
    "    # kontrola, jestli mám dost numerických hodnot (kontrola poměru)\n",
    "    if cislice/len(heslo) < min_numeric_perc:\n",
    "        print(f\"{heslo} má málo číslic!\")\n",
    "        return False\n",
    "    \n",
    "    return True\n",
    "\n"
   ]
  },
  {
   "cell_type": "code",
   "execution_count": 32,
   "metadata": {},
   "outputs": [],
   "source": [
    "heslo = input(\"Vymysli nové heslo: \")"
   ]
  },
  {
   "cell_type": "code",
   "execution_count": 31,
   "metadata": {},
   "outputs": [
    {
     "name": "stdout",
     "output_type": "stream",
     "text": [
      "Z8028AiEn je moc krátké!\n"
     ]
    },
    {
     "data": {
      "text/plain": [
       "False"
      ]
     },
     "execution_count": 31,
     "metadata": {},
     "output_type": "execute_result"
    }
   ],
   "source": [
    "zkontroluj_heslo(heslo)"
   ]
  },
  {
   "cell_type": "markdown",
   "metadata": {},
   "source": [
    "### Úkol 3 - > vsazení sportky"
   ]
  },
  {
   "cell_type": "code",
   "execution_count": 36,
   "metadata": {},
   "outputs": [],
   "source": [
    "def vsad_sportku(pocet_cisel=6, min_hodnota=1, max_hodnota=49):\n",
    "    \"\"\"\n",
    "    Vsazení šťastných čísel uživatelem.\n",
    "    - chceme 6 čísel bez opakování\n",
    "    - v rozmezí od 1 do 49\n",
    "    \"\"\"\n",
    "    # kam budu ukládat čísla, když splním všechny podmínky\n",
    "    stastna_cisla = []\n",
    "    # iteruj, dokud nebudu mít 6 čísel\n",
    "    while len(stastna_cisla) < pocet_cisel:\n",
    "        # vstup uživatele -> input pro zadání čísla\n",
    "        zadano = input(\"Zadej číslo od 1 do 49 bez opakování: \")\n",
    "        # pokud zadaný text je číslo\n",
    "        if zadano.isnumeric():\n",
    "            # přetypuj text na integer\n",
    "            cislo = int(zadano)\n",
    "            # pokud je číslo ve správném rozpětí -> zadané číslo mezi 1 - 49\n",
    "            if min_hodnota <= cislo <= max_hodnota:\n",
    "                # pokud ho už nemám -> zadané číslo není v mým dosud uložených číslech\n",
    "                if cislo not in stastna_cisla:\n",
    "                    # teprve teď můžu uložit -> vše splněno\n",
    "                    stastna_cisla.append(cislo)\n",
    "                # výpis else -> číslo se opakuje -> už ho mám\n",
    "                else:\n",
    "                    print(f\"'{cislo}' už mám!\")\n",
    "            # výpis else -> číslo není ve správném intervalu\n",
    "            else:\n",
    "                print(f\"'{cislo}' není v intervalu od 1 - 49!\")\n",
    "        # výpis else -> zadaný input není číslo\n",
    "        else:\n",
    "            print(f\"'{zadano}' není číslo!\")\n",
    "    return stastna_cisla"
   ]
  },
  {
   "cell_type": "code",
   "execution_count": 38,
   "metadata": {},
   "outputs": [
    {
     "name": "stdout",
     "output_type": "stream",
     "text": [
      "'1' už mám!\n",
      "'1' už mám!\n",
      "'1' už mám!\n",
      "'0' není v intervalu od 1 - 49!\n",
      "'0' není v intervalu od 1 - 49!\n",
      "'50' není v intervalu od 1 - 49!\n",
      "'50' není v intervalu od 1 - 49!\n",
      "'j' není číslo!\n",
      "'g' není číslo!\n",
      "'d' není číslo!\n"
     ]
    },
    {
     "data": {
      "text/plain": [
       "[1, 13, 24, 5, 4, 10]"
      ]
     },
     "execution_count": 38,
     "metadata": {},
     "output_type": "execute_result"
    }
   ],
   "source": [
    "vsad_sportku()"
   ]
  },
  {
   "cell_type": "markdown",
   "metadata": {},
   "source": [
    "### Úkol 4 - Losování Sportky"
   ]
  },
  {
   "cell_type": "code",
   "execution_count": null,
   "metadata": {},
   "outputs": [],
   "source": [
    "def losuj_sportku(pocet_cisel=6, min_hodnota=1, max_hodnota=49):\n",
    "  \"\"\"\n",
    "  Simulace losování sportky.\n",
    "  \"\"\"\n",
    "  # range -> vygeneruj sekvenci čísel od (včetně) - do (bez)\n",
    "  \n",
    "  # sample -> vyber z něčeho n náhodných prvků bez opakování\n",
    "  \n"
   ]
  },
  {
   "cell_type": "markdown",
   "metadata": {},
   "source": [
    "### Úkol 5 - Losuj dokud nevyhraju"
   ]
  },
  {
   "cell_type": "code",
   "execution_count": null,
   "metadata": {},
   "outputs": [],
   "source": [
    "def dokud_nevyhraju(stastna_cisla):\n",
    "    \"\"\"\n",
    "    funkce na vstupu vezme šťastná čísla zadaná uživatelem a proti nim losuje sportku tak dlouho,\n",
    "    dokud nedojde k výhře jackpotu\n",
    "    \"\"\"\n",
    "    # čítač počtu losování\n",
    "\n",
    "    # seřadím si svá vsazená čísla -> jednou vsadím, jednou řadím\n",
    "\n",
    "    # nekonečná smyčka\n",
    "\n",
    "        # losování sportky\n",
    "\n",
    "        # pokud seřazená šťástná čísla se rovnají seřazeným losovaným -> jackpot, končím smyčku\n",
    "\n",
    "            # vracím počet losování do výhry\n",
    "\n",
    "        # nevyhrál jsem, připočítávám 1 do čítače\n",
    "\n",
    "        # každých 1000 000 losování něco vytiskni, ať vím, že to běží\n"
   ]
  },
  {
   "cell_type": "markdown",
   "metadata": {},
   "source": [
    "### Úkol 6 - vyplnění dat"
   ]
  },
  {
   "cell_type": "code",
   "execution_count": null,
   "metadata": {},
   "outputs": [],
   "source": [
    "# inicializace slovníku pro ukládání data - 'data'\n",
    "\n",
    "# zopakuj n x krát -> for smyčka s range(n)\n",
    "\n",
    "    # inputy pro zadání jména, věku a příjmu -> uložit do proměnných\n",
    "\n",
    "    # vygenerování unikátního id klíče -> aby každý měl své\n",
    "\n",
    "    # sestavení datového záznamu -> slovník s klíči jmeno, vek a prijem\n",
    "\n",
    "    # uložení záznamu (value) do slovníku 'data' pod unikátním id (key)\n"
   ]
  },
  {
   "cell_type": "markdown",
   "metadata": {},
   "source": [
    "Úkol 7 - sekvence jednoduších úkolů vygenerovaných ChatGPT :D"
   ]
  },
  {
   "cell_type": "code",
   "execution_count": 39,
   "metadata": {},
   "outputs": [],
   "source": [
    "def vyhodnot_slova(text, delka_min=5):\n",
    "    \"\"\"\n",
    "    Funkce přijme text jako vstup, rozdělí ho na jednotlivá slova a vrátí seznam slov, která jsou \n",
    "    delší než `delka_min` a obsahují pouze unikátní písmena (např. slovo \"pes\" projde, ale \"mama\" ne).\n",
    "    \"\"\"\n",
    "    # rozdělím text na slova\n",
    "\n",
    "    # vytvořím seznam slov, která splňují podmínku délky a unikátnosti písmen\n",
    "\n",
    "    # vracím seznam filtrovaných slov"
   ]
  },
  {
   "cell_type": "code",
   "execution_count": 40,
   "metadata": {},
   "outputs": [],
   "source": [
    "def spocitej_skore(text, hodnoty_pismen):\n",
    "    \"\"\"\n",
    "    Funkce přijme text a slovník `hodnoty_pismen`, kde klíčem jsou jednotlivá písmena a hodnotou jejich \n",
    "    bodové skóre. Vrátí celkové skóre textu jako součet bodů za každé písmeno.\n",
    "    \"\"\"\n",
    "    # inicializace skóre\n",
    "\n",
    "    # projdu každé písmeno v textu a přičtu jeho hodnotu ze slovníku (pouze pokud je ve slovníku definováno)\n",
    "\n",
    "    # vracím celkové skóre"
   ]
  },
  {
   "cell_type": "code",
   "execution_count": 41,
   "metadata": {},
   "outputs": [],
   "source": [
    "def nejcastejsi_prvek(seznam):\n",
    "    \"\"\"\n",
    "    funkce vrátí prvek, který se v seznamu vyskytuje nejčastěji\n",
    "    \"\"\"\n",
    "    # kontrola, zda je seznam neprázdný\n",
    "\n",
    "    # vytvořím prázdný slovník pro počty výskytů\n",
    "\n",
    "    # projdu seznam a spočítám výskyty každého prvku\n",
    "\n",
    "    # najdu prvek s nejvyšším počtem výskytů a vracím jej"
   ]
  },
  {
   "cell_type": "code",
   "execution_count": 42,
   "metadata": {},
   "outputs": [],
   "source": [
    "def seskup_data(data, pocet_skupin):\n",
    "    \"\"\"\n",
    "    Funkce přijme seznam `data` obsahující čísla a počet `pocet_skupin`. Rozdělí čísla na `pocet_skupin` \n",
    "    skupin na základě jejich velikosti (např. skupina 1 bude obsahovat nejmenší čísla, skupina 2 \n",
    "    o něco větší atd.) a vrátí slovník, kde klíčem je číslo skupiny a hodnotou seznam čísel.\n",
    "    \"\"\"\n",
    "    # seřadím data vzestupně\n",
    "\n",
    "    # spočítám optimální velikost skupiny\n",
    "\n",
    "    # seskupím data do slovníku podle skupin\n",
    "\n",
    "    # vracím slovník s rozdělenými daty"
   ]
  },
  {
   "cell_type": "code",
   "execution_count": null,
   "metadata": {},
   "outputs": [],
   "source": [
    "# data jsou vygenerována v úkolu 6\n",
    "def analyzuj_data(data):\n",
    "    \"\"\"\n",
    "    Funkce přijme seznam slovníků `data` (např. z databáze), které obsahují klíče \"jmeno\", \"vek\" a \n",
    "    \"prijem\". Odstraní položky se špatným nebo chybějícím formátem (např. záporný věk nebo záporný příjem), \n",
    "    spočítá průměrný věk a průměrný příjem z platných dat a vrátí výsledek jako slovník.\n",
    "    \"\"\"\n",
    "    # inicializace proměnných pro součty a počty\n",
    "\n",
    "    # projdu data a přeskakuji neplatné položky\n",
    "\n",
    "    # počítám průměrné hodnoty pro věk a příjem a vracím jako slovník"
   ]
  },
  {
   "cell_type": "code",
   "execution_count": null,
   "metadata": {},
   "outputs": [],
   "source": [
    "text = \"\"\"Aby se průmyslové sněžení objevilo, je třeba, aby bylo splněno několik podmínek. Potřeba je nízká vrstevnatá oblačnost, případně mlha a nad ní jasná obloha. Důležitá je rovněž přítomnost průmyslových emisí, coby dodatečného zdroje tepla a vlhkosti.\n",
    "\n",
    "Ideálními provozy přispívajícími ke vzniku průmyslového sněžení jsou teplárny s chladicími věžemi či komíny vypouštějícími dostatečné množství vodní páry.\n",
    "\n",
    "„Průmyslové sněžení je velmi lokální, ale nezřídka takto napadne i několik centimetrů sněhu. V extrémních případech i několik desítek centimetrů za delší dobu,“ připomněli meteorologové.\n",
    "\n",
    "Nejvhodnější doba pro takovouto „sněhovou nadílku“ je před východem slunce.\n",
    "\n",
    "Mlhy a nízká oblačnost by se měly objevovat i v pondělí. ČHMÚ navíc očekává výskyt námrazy, která zejména ve vyšších polohách, ale i na mostech může způsobovat kluzkou vozovku.\"\"\"\n",
    "\n",
    "def analyzuj_vety(text):\n",
    "    \"\"\"\n",
    "    Funkce přijme text, rozdělí jej na věty (ukončené tečkou, otazníkem nebo vykřičníkem), spočítá \n",
    "    jejich počet a průměrnou délku v počtu slov. Vrátí slovník s výsledky.\n",
    "    \"\"\"\n",
    "    # rozdělím text na věty\n",
    "\n",
    "    # spočítám počet vět\n",
    "\n",
    "    # spočítám průměrnou délku věty v počtu slov\n",
    "\n",
    "    # vracím slovník s výsledky"
   ]
  }
 ],
 "metadata": {
  "kernelspec": {
   "display_name": "Python 3",
   "language": "python",
   "name": "python3"
  },
  "language_info": {
   "codemirror_mode": {
    "name": "ipython",
    "version": 3
   },
   "file_extension": ".py",
   "mimetype": "text/x-python",
   "name": "python",
   "nbconvert_exporter": "python",
   "pygments_lexer": "ipython3",
   "version": "3.10.11"
  }
 },
 "nbformat": 4,
 "nbformat_minor": 2
}
