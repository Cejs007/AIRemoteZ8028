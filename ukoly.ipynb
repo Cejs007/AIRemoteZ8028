{
 "cells": [
  {
   "cell_type": "markdown",
   "metadata": {},
   "source": [
    "### Úkol 1 - text hledání"
   ]
  },
  {
   "cell_type": "code",
   "execution_count": 16,
   "metadata": {},
   "outputs": [],
   "source": [
    "def vyhledej_znak(slovo, znak):\n",
    "    \"\"\"\n",
    "    vyhledej v libovolném textu znak a spočítej, kolikrát se tam objevil\n",
    "    \"\"\"\n",
    "    # chci aby vyhledávání nebylo citlivé na malá/velká písmena -> vše převedu na malé\n",
    "    slovo = slovo.lower()\n",
    "    znak = znak.lower()\n",
    "    # čítač -> proměnná, která bude na začátku nula, a do které pokud najdu 'znak' přičtu jedničku\n",
    "    pocet_nalezeni = 0\n",
    "    # for smyčku -> pro každé pismeno ze slova 'slovo'\n",
    "    for pismeno in slovo:\n",
    "        # zkontrolovat, jestli to aktuální písmeno je rovno 'znak' -> if\n",
    "        if pismeno == znak:\n",
    "            # pokud ano -> přičítám 1 do čítače\n",
    "            pocet_nalezeni += 1\n",
    "    return pocet_nalezeni"
   ]
  },
  {
   "cell_type": "code",
   "execution_count": 17,
   "metadata": {},
   "outputs": [
    {
     "data": {
      "text/plain": [
       "3"
      ]
     },
     "execution_count": 17,
     "metadata": {},
     "output_type": "execute_result"
    }
   ],
   "source": [
    "vyhledej_znak(\"KraftfahrzeugHaftpflichtversicherung\", \"a\")"
   ]
  },
  {
   "cell_type": "markdown",
   "metadata": {},
   "source": [
    "### Úkol 2 - Založení hesla"
   ]
  },
  {
   "cell_type": "code",
   "execution_count": 21,
   "metadata": {},
   "outputs": [],
   "source": [
    "def zkontroluj_heslo(heslo, min_delka=10, min_upper=2, min_numeric_perc=0.3):\n",
    "    \"\"\"\n",
    "    Zkontroluj, jestli heslo splňuje požadavky:\n",
    "    - minimální délka hesla\n",
    "    - alespoň nějaký počet velkých písmen\n",
    "    - minimální poměr čísel vůči počtu znaků\n",
    "    \"\"\"\n",
    "    # je heslo dostatečně dlouhé -> if + len\n",
    "    if len(heslo) < min_delka:\n",
    "        print(f\"{heslo} je moc krátké!\")\n",
    "        return False\n",
    "    # čítače -> pro počítání když najdu velké písmeno nebo číslici\n",
    "    velka_pismena = 0\n",
    "    cislice = 0\n",
    "    # pro každý znak ze zadaného hesla\n",
    "    for znak in heslo:\n",
    "        # je to velké písmeno? -> if isupper - pokud ano přičíst do čítače\n",
    "        if znak.isupper():\n",
    "           velka_pismena += 1 \n",
    "        # je to číslice? -> if isnumeric - pokud ano přičíst do čítače\n",
    "        if znak.isnumeric():\n",
    "            cislice += 1\n",
    "    # kontrola, jestli mám dost velkých písmen\n",
    "    if velka_pismena < min_upper:\n",
    "        print(f\"{heslo} má málo velkých písmen!\")\n",
    "        return False\n",
    "    # kontrola, jestli mám dost numerických hodnot (kontrola poměru)\n",
    "    if cislice/len(heslo) < min_numeric_perc:\n",
    "        print(f\"{heslo} má málo číslic!\")\n",
    "        return False\n",
    "    \n",
    "    return True\n",
    "\n"
   ]
  },
  {
   "cell_type": "code",
   "execution_count": 32,
   "metadata": {},
   "outputs": [],
   "source": [
    "heslo = input(\"Vymysli nové heslo: \")"
   ]
  },
  {
   "cell_type": "code",
   "execution_count": 31,
   "metadata": {},
   "outputs": [
    {
     "name": "stdout",
     "output_type": "stream",
     "text": [
      "Z8028AiEn je moc krátké!\n"
     ]
    },
    {
     "data": {
      "text/plain": [
       "False"
      ]
     },
     "execution_count": 31,
     "metadata": {},
     "output_type": "execute_result"
    }
   ],
   "source": [
    "zkontroluj_heslo(heslo)"
   ]
  },
  {
   "cell_type": "markdown",
   "metadata": {},
   "source": [
    "### Úkol 3 - > vsazení sportky"
   ]
  },
  {
   "cell_type": "code",
   "execution_count": 36,
   "metadata": {},
   "outputs": [],
   "source": [
    "def vsad_sportku(pocet_cisel=6, min_hodnota=1, max_hodnota=49):\n",
    "    \"\"\"\n",
    "    Vsazení šťastných čísel uživatelem.\n",
    "    - chceme 6 čísel bez opakování\n",
    "    - v rozmezí od 1 do 49\n",
    "    \"\"\"\n",
    "    # kam budu ukládat čísla, když splním všechny podmínky\n",
    "    stastna_cisla = []\n",
    "    # iteruj, dokud nebudu mít 6 čísel\n",
    "    while len(stastna_cisla) < pocet_cisel:\n",
    "        # vstup uživatele -> input pro zadání čísla\n",
    "        zadano = input(\"Zadej číslo od 1 do 49 bez opakování: \")\n",
    "        # pokud zadaný text je číslo\n",
    "        if zadano.isnumeric():\n",
    "            # přetypuj text na integer\n",
    "            cislo = int(zadano)\n",
    "            # pokud je číslo ve správném rozpětí -> zadané číslo mezi 1 - 49\n",
    "            if min_hodnota <= cislo <= max_hodnota:\n",
    "                # pokud ho už nemám -> zadané číslo není v mým dosud uložených číslech\n",
    "                if cislo not in stastna_cisla:\n",
    "                    # teprve teď můžu uložit -> vše splněno\n",
    "                    stastna_cisla.append(cislo)\n",
    "                # výpis else -> číslo se opakuje -> už ho mám\n",
    "                else:\n",
    "                    print(f\"'{cislo}' už mám!\")\n",
    "            # výpis else -> číslo není ve správném intervalu\n",
    "            else:\n",
    "                print(f\"'{cislo}' není v intervalu od 1 - 49!\")\n",
    "        # výpis else -> zadaný input není číslo\n",
    "        else:\n",
    "            print(f\"'{zadano}' není číslo!\")\n",
    "    return stastna_cisla"
   ]
  },
  {
   "cell_type": "code",
   "execution_count": 43,
   "metadata": {},
   "outputs": [
    {
     "data": {
      "text/plain": [
       "[13, 24, 5, 4, 11, 8]"
      ]
     },
     "execution_count": 43,
     "metadata": {},
     "output_type": "execute_result"
    }
   ],
   "source": [
    "vsad_sportku()"
   ]
  },
  {
   "cell_type": "markdown",
   "metadata": {},
   "source": [
    "### Úkol 4 - Losování Sportky"
   ]
  },
  {
   "cell_type": "code",
   "execution_count": 52,
   "metadata": {},
   "outputs": [],
   "source": [
    "from random import sample"
   ]
  },
  {
   "cell_type": "code",
   "execution_count": 59,
   "metadata": {},
   "outputs": [],
   "source": [
    "def losuj_sportku(pocet_cisel=6, min_hodnota=1, max_hodnota=49):\n",
    "  \"\"\"\n",
    "  Simulace losování sportky.\n",
    "  \"\"\"\n",
    "  # range -> vygeneruj sekvenci čísel od (včetně) - do (bez)\n",
    "  mozna_cisla = range(1, 50)\n",
    "  # sample -> vyber z něčeho n náhodných prvků bez opakování\n",
    "  return sample(mozna_cisla, 6)"
   ]
  },
  {
   "cell_type": "markdown",
   "metadata": {},
   "source": [
    "### Úkol 5 - Losuj dokud nevyhraju"
   ]
  },
  {
   "cell_type": "code",
   "execution_count": 67,
   "metadata": {},
   "outputs": [],
   "source": [
    "def dokud_nevyhraju(stastna_cisla):\n",
    "    \"\"\"\n",
    "    funkce na vstupu vezme šťastná čísla zadaná uživatelem a proti nim losuje sportku tak dlouho,\n",
    "    dokud nedojde k výhře jackpotu\n",
    "    \"\"\"\n",
    "    # čítač počtu losování\n",
    "    pocet_losovani = 0\n",
    "    # seřadím si svá vsazená čísla -> jednou vsadím, jednou řadím\n",
    "    stastna_cisla.sort()\n",
    "    # nekonečná smyčka\n",
    "    while True:\n",
    "        # losování sportky\n",
    "        losovana_cisla = sorted(losuj_sportku())\n",
    "        # pokud seřazená šťástná čísla se rovnají seřazeným losovaným -> jackpot, končím smyčku\n",
    "        if stastna_cisla == losovana_cisla:\n",
    "            # vracím počet losování do výhry\n",
    "            break\n",
    "        # nevyhrál jsem, připočítávám 1 do čítače\n",
    "        pocet_losovani += 1\n",
    "        # každých 1000 000 losování něco vytiskni, ať vím, že to běží\n",
    "        if pocet_losovani % 1000000 == 0:\n",
    "            print(f\"Iterace: {pocet_losovani} Šťastná: {stastna_cisla} Losovaná: {losovana_cisla}\")\n",
    "    return pocet_losovani\n"
   ]
  },
  {
   "cell_type": "code",
   "execution_count": 68,
   "metadata": {},
   "outputs": [
    {
     "data": {
      "text/plain": [
       "[3, 5, 6, 10, 13, 24]"
      ]
     },
     "execution_count": 68,
     "metadata": {},
     "output_type": "execute_result"
    }
   ],
   "source": [
    "stastna_cisla = vsad_sportku()"
   ]
  },
  {
   "cell_type": "code",
   "execution_count": 69,
   "metadata": {},
   "outputs": [
    {
     "name": "stdout",
     "output_type": "stream",
     "text": [
      "Iterace: 1000000 Šťastná: [3, 5, 6, 10, 13, 24] Losovaná: [1, 3, 11, 23, 34, 44]\n",
      "Iterace: 2000000 Šťastná: [3, 5, 6, 10, 13, 24] Losovaná: [5, 9, 22, 26, 30, 32]\n",
      "Iterace: 3000000 Šťastná: [3, 5, 6, 10, 13, 24] Losovaná: [11, 18, 28, 31, 35, 40]\n",
      "Iterace: 4000000 Šťastná: [3, 5, 6, 10, 13, 24] Losovaná: [4, 14, 18, 29, 33, 45]\n",
      "Iterace: 5000000 Šťastná: [3, 5, 6, 10, 13, 24] Losovaná: [10, 14, 29, 35, 39, 40]\n",
      "Iterace: 6000000 Šťastná: [3, 5, 6, 10, 13, 24] Losovaná: [1, 8, 9, 18, 44, 46]\n",
      "Iterace: 7000000 Šťastná: [3, 5, 6, 10, 13, 24] Losovaná: [12, 19, 24, 31, 33, 48]\n",
      "Iterace: 8000000 Šťastná: [3, 5, 6, 10, 13, 24] Losovaná: [4, 7, 9, 19, 30, 39]\n",
      "Iterace: 9000000 Šťastná: [3, 5, 6, 10, 13, 24] Losovaná: [19, 20, 23, 27, 29, 39]\n",
      "Iterace: 10000000 Šťastná: [3, 5, 6, 10, 13, 24] Losovaná: [5, 19, 21, 23, 47, 49]\n",
      "Iterace: 11000000 Šťastná: [3, 5, 6, 10, 13, 24] Losovaná: [12, 22, 30, 41, 42, 49]\n",
      "Iterace: 12000000 Šťastná: [3, 5, 6, 10, 13, 24] Losovaná: [3, 10, 12, 20, 22, 46]\n",
      "Iterace: 13000000 Šťastná: [3, 5, 6, 10, 13, 24] Losovaná: [5, 8, 18, 29, 38, 47]\n",
      "Iterace: 14000000 Šťastná: [3, 5, 6, 10, 13, 24] Losovaná: [2, 5, 8, 16, 22, 44]\n",
      "Iterace: 15000000 Šťastná: [3, 5, 6, 10, 13, 24] Losovaná: [4, 9, 22, 35, 40, 44]\n",
      "Iterace: 16000000 Šťastná: [3, 5, 6, 10, 13, 24] Losovaná: [9, 11, 14, 24, 41, 47]\n",
      "Iterace: 17000000 Šťastná: [3, 5, 6, 10, 13, 24] Losovaná: [2, 5, 17, 24, 27, 48]\n"
     ]
    },
    {
     "data": {
      "text/plain": [
       "17768425"
      ]
     },
     "execution_count": 69,
     "metadata": {},
     "output_type": "execute_result"
    }
   ],
   "source": [
    "dokud_nevyhraju(stastna_cisla)"
   ]
  },
  {
   "cell_type": "markdown",
   "metadata": {},
   "source": [
    "### Úkol 6 - vyplnění dat"
   ]
  },
  {
   "cell_type": "code",
   "execution_count": 83,
   "metadata": {},
   "outputs": [],
   "source": [
    "# inicializace listu pro ukládání záznamů - 'data'\n",
    "data = []\n",
    "# zopakuj n x krát -> for smyčka s range(n)\n",
    "for i in range(3):\n",
    "    # inputy pro zadání jména, věku a příjmu -> uložit do proměnných\n",
    "    jmeno = input(\"Zadej jméno: \")\n",
    "    vek = input(\"Zadej věk: \")\n",
    "    prijem = input(\"Zadej příjem: \")\n",
    "    # vygenerování unikátního id klíče -> aby každý měl své\n",
    "    id = i\n",
    "    # sestavení datového záznamu -> slovník s klíči jmeno, vek a prijem\n",
    "    zaznam = {\"id\": id, \"jmeno\": jmeno, \"vek\": vek, \"prijem\": prijem}\n",
    "    # uložení záznamu do listu\n",
    "    data.append(zaznam)\n"
   ]
  },
  {
   "cell_type": "code",
   "execution_count": 84,
   "metadata": {},
   "outputs": [
    {
     "data": {
      "text/plain": [
       "[{'id': 0, 'jmeno': 'Michal', 'vek': '31', 'prijem': '100000'},\n",
       " {'id': 1, 'jmeno': 'Marie', 'vek': '30', 'prijem': '10000'},\n",
       " {'id': 2, 'jmeno': 'Ladislav', 'vek': '35', 'prijem': '150000'}]"
      ]
     },
     "execution_count": 84,
     "metadata": {},
     "output_type": "execute_result"
    }
   ],
   "source": [
    "data"
   ]
  },
  {
   "cell_type": "markdown",
   "metadata": {},
   "source": [
    "Úkol 7 - sekvence jednoduších úkolů vygenerovaných ChatGPT :D"
   ]
  },
  {
   "cell_type": "code",
   "execution_count": 96,
   "metadata": {},
   "outputs": [],
   "source": [
    "def vyhodnot_slova(text, delka_min=5):\n",
    "    \"\"\"\n",
    "    Funkce přijme text jako vstup, rozdělí ho na jednotlivá slova a vrátí seznam slov, která jsou \n",
    "    delší než `delka_min` a obsahují pouze unikátní písmena (např. slovo \"pes\" projde, ale \"mama\" ne).\n",
    "    \"\"\"\n",
    "    text_clean = text.replace('.', '').replace(',', '')\n",
    "    # rozdělím text na slova\n",
    "    slova = [slovo for slovo in text_clean.split(\" \") if len(slovo) > delka_min]\n",
    "    # vytvořím seznam slov, která splňují podmínku délky a unikátnosti písmen\n",
    "    vysledek = [slovo for slovo in slova if len(slovo) == len(set(slovo))]\n",
    "    # vracím seznam filtrovaných slov\n",
    "    return vysledek"
   ]
  },
  {
   "cell_type": "code",
   "execution_count": 97,
   "metadata": {},
   "outputs": [
    {
     "data": {
      "text/plain": [
       "['Funkce',\n",
       " 'přijme',\n",
       " 'slovník',\n",
       " 'klíčem',\n",
       " 'jednotlivá',\n",
       " 'písmena',\n",
       " 'celkové',\n",
       " 'součet',\n",
       " 'písmeno']"
      ]
     },
     "execution_count": 97,
     "metadata": {},
     "output_type": "execute_result"
    }
   ],
   "source": [
    "vyhodnot_slova(\"\"\"Funkce přijme text a slovník `hodnoty_pismen`, kde klíčem jsou jednotlivá písmena a hodnotou jejich \n",
    "    bodové skóre. Vrátí celkové skóre textu jako součet bodů za každé písmeno.\"\"\")"
   ]
  },
  {
   "cell_type": "code",
   "execution_count": 105,
   "metadata": {},
   "outputs": [],
   "source": [
    "def spocitej_skore(text, hodnoty_pismen):\n",
    "    \"\"\"\n",
    "    Funkce přijme text a slovník `hodnoty_pismen`, kde klíčem jsou jednotlivá písmena a hodnotou jejich \n",
    "    bodové skóre. Vrátí celkové skóre textu jako součet bodů za každé písmeno.\n",
    "    \"\"\"\n",
    "    text = text.upper()\n",
    "    # inicializace skóre\n",
    "    skore = 0\n",
    "    # projdu každé písmeno v textu a přičtu jeho hodnotu ze slovníku (pouze pokud je ve slovníku definováno)\n",
    "    for znak in text:\n",
    "        if znak in hodnoty_pismen.keys():\n",
    "            skore += hodnoty_pismen[znak]\n",
    "    # vracím celkové skóre\n",
    "    return skore"
   ]
  },
  {
   "cell_type": "code",
   "execution_count": 106,
   "metadata": {},
   "outputs": [],
   "source": [
    "from random import randint"
   ]
  },
  {
   "cell_type": "code",
   "execution_count": 107,
   "metadata": {},
   "outputs": [],
   "source": [
    "pismena = \"A B C D E F G H I J K L M N O P Q R S T U V W X Y Z\".replace(\" \", \"\")\n",
    "hodnoty_pismen = {pismeno:randint(1,10) for pismeno in pismena}"
   ]
  },
  {
   "cell_type": "code",
   "execution_count": 114,
   "metadata": {},
   "outputs": [
    {
     "data": {
      "text/plain": [
       "19"
      ]
     },
     "execution_count": 114,
     "metadata": {},
     "output_type": "execute_result"
    }
   ],
   "source": [
    "spocitej_skore(\"ahoj\", hodnoty_pismen)"
   ]
  },
  {
   "cell_type": "code",
   "execution_count": 115,
   "metadata": {},
   "outputs": [
    {
     "name": "stdout",
     "output_type": "stream",
     "text": [
      "3 4 6 6\n"
     ]
    }
   ],
   "source": [
    "print(hodnoty_pismen[\"A\"], hodnoty_pismen[\"H\"], hodnoty_pismen[\"O\"], hodnoty_pismen[\"J\"])"
   ]
  },
  {
   "cell_type": "code",
   "execution_count": 131,
   "metadata": {},
   "outputs": [],
   "source": [
    "def nejcastejsi_prvek(seznam):\n",
    "    \"\"\"\n",
    "    funkce vrátí prvek, který se v seznamu vyskytuje nejčastěji\n",
    "    \"\"\"\n",
    "    # kontrola, zda je seznam neprázdný\n",
    "    if seznam:\n",
    "    # vytvořím prázdný slovník pro počty výskytů\n",
    "        vyskyty = {}\n",
    "        # projdu seznam a spočítám výskyty každého prvku\n",
    "        for prvek in seznam:\n",
    "            if prvek in vyskyty.keys():\n",
    "                vyskyty[prvek] += 1\n",
    "            else:\n",
    "                vyskyty[prvek] = 1\n",
    "    # najdu prvek s nejvyšším počtem výskytů a vracím jej\n",
    "    #TODO - jak se vypořádat s remízou -> co když má více prvků stejnou max hodnotu\n",
    "    return sorted([(value, key) for key, value in vyskyty.items()], reverse=True)[0][-1]"
   ]
  },
  {
   "cell_type": "code",
   "execution_count": 133,
   "metadata": {},
   "outputs": [],
   "source": [
    "test = list(\"aaabbc\")"
   ]
  },
  {
   "cell_type": "code",
   "execution_count": 134,
   "metadata": {},
   "outputs": [
    {
     "data": {
      "text/plain": [
       "'a'"
      ]
     },
     "execution_count": 134,
     "metadata": {},
     "output_type": "execute_result"
    }
   ],
   "source": [
    "nejcastejsi_prvek(test)"
   ]
  },
  {
   "cell_type": "code",
   "execution_count": 42,
   "metadata": {},
   "outputs": [],
   "source": [
    "def seskup_data(data, pocet_skupin):\n",
    "    \"\"\"\n",
    "    Funkce přijme seznam `data` obsahující čísla a počet `pocet_skupin`. Rozdělí čísla na `pocet_skupin` \n",
    "    skupin na základě jejich velikosti (např. skupina 1 bude obsahovat nejmenší čísla, skupina 2 \n",
    "    o něco větší atd.) a vrátí slovník, kde klíčem je číslo skupiny a hodnotou seznam čísel.\n",
    "    \"\"\"\n",
    "    # seřadím data vzestupně\n",
    "\n",
    "    # spočítám optimální velikost skupiny\n",
    "\n",
    "    # seskupím data do slovníku podle skupin\n",
    "\n",
    "    # vracím slovník s rozdělenými daty"
   ]
  },
  {
   "cell_type": "code",
   "execution_count": null,
   "metadata": {},
   "outputs": [],
   "source": [
    "# data jsou vygenerována v úkolu 6\n",
    "def analyzuj_data(data):\n",
    "    \"\"\"\n",
    "    Funkce přijme seznam slovníků `data` (např. z databáze), které obsahují klíče \"jmeno\", \"vek\" a \n",
    "    \"prijem\". Odstraní položky se špatným nebo chybějícím formátem (např. záporný věk nebo záporný příjem), \n",
    "    spočítá průměrný věk a průměrný příjem z platných dat a vrátí výsledek jako slovník.\n",
    "    \"\"\"\n",
    "    # inicializace proměnných pro součty a počty\n",
    "\n",
    "    # projdu data a přeskakuji neplatné položky\n",
    "\n",
    "    # počítám průměrné hodnoty pro věk a příjem a vracím jako slovník"
   ]
  },
  {
   "cell_type": "code",
   "execution_count": null,
   "metadata": {},
   "outputs": [],
   "source": [
    "text = \"\"\"Aby se průmyslové sněžení objevilo, je třeba, aby bylo splněno několik podmínek. Potřeba je nízká vrstevnatá oblačnost, případně mlha a nad ní jasná obloha. Důležitá je rovněž přítomnost průmyslových emisí, coby dodatečného zdroje tepla a vlhkosti.\n",
    "\n",
    "Ideálními provozy přispívajícími ke vzniku průmyslového sněžení jsou teplárny s chladicími věžemi či komíny vypouštějícími dostatečné množství vodní páry.\n",
    "\n",
    "„Průmyslové sněžení je velmi lokální, ale nezřídka takto napadne i několik centimetrů sněhu. V extrémních případech i několik desítek centimetrů za delší dobu,“ připomněli meteorologové.\n",
    "\n",
    "Nejvhodnější doba pro takovouto „sněhovou nadílku“ je před východem slunce.\n",
    "\n",
    "Mlhy a nízká oblačnost by se měly objevovat i v pondělí. ČHMÚ navíc očekává výskyt námrazy, která zejména ve vyšších polohách, ale i na mostech může způsobovat kluzkou vozovku.\"\"\"\n",
    "\n",
    "def analyzuj_vety(text):\n",
    "    \"\"\"\n",
    "    Funkce přijme text, rozdělí jej na věty (ukončené tečkou, otazníkem nebo vykřičníkem), spočítá \n",
    "    jejich počet a průměrnou délku v počtu slov. Vrátí slovník s výsledky.\n",
    "    \"\"\"\n",
    "    # rozdělím text na věty\n",
    "\n",
    "    # spočítám počet vět\n",
    "\n",
    "    # spočítám průměrnou délku věty v počtu slov\n",
    "\n",
    "    # vracím slovník s výsledky"
   ]
  }
 ],
 "metadata": {
  "kernelspec": {
   "display_name": "Python 3",
   "language": "python",
   "name": "python3"
  },
  "language_info": {
   "codemirror_mode": {
    "name": "ipython",
    "version": 3
   },
   "file_extension": ".py",
   "mimetype": "text/x-python",
   "name": "python",
   "nbconvert_exporter": "python",
   "pygments_lexer": "ipython3",
   "version": "3.10.11"
  }
 },
 "nbformat": 4,
 "nbformat_minor": 2
}
