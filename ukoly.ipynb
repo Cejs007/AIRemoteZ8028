{
 "cells": [
  {
   "cell_type": "markdown",
   "metadata": {},
   "source": [
    "### Úkol 1 - text hledání"
   ]
  },
  {
   "cell_type": "code",
   "execution_count": null,
   "metadata": {},
   "outputs": [],
   "source": [
    "def vyhledej_znak(slovo, znak):\n",
    "    \"\"\"\n",
    "    vyhledej v libovolném textu znak a spočítej, kolikrát se tam objevil\n",
    "    \"\"\"\n",
    "\n",
    "    # čítač -> proměnná, která bude na začátku nula, a do které pokud najdu 'znak' přičtu jedničku\n",
    "\n",
    "    # for smyčku -> pro každé pismeno ze slova 'slovo'\n",
    "\n",
    "        # zkontrolovat, jestli to aktuální písmeno je rovno 'znak' -> if\n",
    "\n",
    "        # pokud ano -> přičítám 1 do čítače\n"
   ]
  }
 ],
 "metadata": {
  "kernelspec": {
   "display_name": "Python 3",
   "language": "python",
   "name": "python3"
  },
  "language_info": {
   "name": "python",
   "version": "3.10.11"
  }
 },
 "nbformat": 4,
 "nbformat_minor": 2
}
